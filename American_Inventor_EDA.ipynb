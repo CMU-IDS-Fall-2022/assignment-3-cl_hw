{
 "cells": [
  {
   "cell_type": "code",
   "execution_count": null,
   "metadata": {
    "colab": {
     "base_uri": "https://localhost:8080/"
    },
    "id": "a0nS1Wvsq44e",
    "outputId": "3c9eae8b-bbe3-43cd-fe14-4bd3731a9bc2"
   },
   "outputs": [],
   "source": [
    "import altair as alt\n",
    "import numpy as np\n",
    "import pandas as pd\n",
    "import matplotlib.pyplot as plt\n",
    "import seaborn as sns\n",
    "import json, ast\n",
    "\n",
    "\n",
    "%matplotlib inline\n",
    "alt.data_transformers.enable('default', max_rows=None)"
   ]
  },
  {
   "cell_type": "code",
   "execution_count": null,
   "metadata": {
    "colab": {
     "base_uri": "https://localhost:8080/",
     "height": 300
    },
    "id": "ttOfq-nWrD1c",
    "outputId": "bac30615-6d7a-41b6-de22-e439793cae31"
   },
   "outputs": [],
   "source": [
    "df_curr = pd.read_csv('https://raw.githubusercontent.com/CMU-IDS-Fall-2022/assignment-3-cl_hw/master/Innovation%20by%20Current%20State%2C%20Year%20of%20Birth%20and%20Age.csv')\n",
    "df_curr.head(5)"
   ]
  },
  {
   "cell_type": "code",
   "execution_count": null,
   "metadata": {
    "colab": {
     "base_uri": "https://localhost:8080/",
     "height": 394
    },
    "id": "zwIPuZfMsF9J",
    "outputId": "bc4eb6c2-d6c3-4c78-f7c5-3c2ac6165097"
   },
   "outputs": [],
   "source": [
    "df_curr.describe()"
   ]
  },
  {
   "cell_type": "code",
   "execution_count": null,
   "metadata": {
    "colab": {
     "base_uri": "https://localhost:8080/"
    },
    "id": "xIGfE0Z5sIk7",
    "outputId": "56817a90-f37f-47d4-b4d4-7d78d53a84eb"
   },
   "outputs": [],
   "source": [
    "df_curr.nunique()"
   ]
  },
  {
   "cell_type": "code",
   "execution_count": null,
   "metadata": {
    "colab": {
     "base_uri": "https://localhost:8080/",
     "height": 290
    },
    "id": "tAf1OYGhsPtt",
    "outputId": "5e05fc0e-dabd-42e7-c517-fb02ad4889fe"
   },
   "outputs": [],
   "source": [
    "innovation_features = list(df_curr.keys())\n",
    "innovation_features\n",
    "\n",
    "alt.Chart(df_curr).mark_bar().encode(\n",
    "    alt.X(alt.repeat(\"column\"), bin=True),\n",
    "    alt.Y(\"count()\")\n",
    ").properties(\n",
    "    width=200,\n",
    "    height=200,\n",
    ").repeat(\n",
    "    column=innovation_features\n",
    ")"
   ]
  },
  {
   "cell_type": "code",
   "execution_count": null,
   "metadata": {
    "colab": {
     "base_uri": "https://localhost:8080/"
    },
    "id": "5aTEq3PtvH-W",
    "outputId": "692950f4-8072-466b-89f1-f2827519c968"
   },
   "outputs": [],
   "source": [
    "corr_matrix_1 = df_curr.corr()\n",
    "corr_matrix_1['num_grants'].sort_values(ascending=False)"
   ]
  },
  {
   "cell_type": "code",
   "execution_count": null,
   "metadata": {
    "colab": {
     "base_uri": "https://localhost:8080/",
     "height": 526
    },
    "id": "Q9v1Nh71s2ID",
    "outputId": "6b86a641-b56f-44f8-f898-4e56217e5015"
   },
   "outputs": [],
   "source": [
    "df_childhood = pd.read_csv('https://raw.githubusercontent.com/CMU-IDS-Fall-2022/assignment-3-cl_hw/master/invention.csv')\n",
    "df_childhood.head(10)"
   ]
  },
  {
   "cell_type": "code",
   "execution_count": null,
   "metadata": {
    "colab": {
     "base_uri": "https://localhost:8080/",
     "height": 290
    },
    "id": "BKP5vHJcuW5C",
    "outputId": "fc12fbbe-3139-4b8f-f226-264492bf64ce"
   },
   "outputs": [],
   "source": [
    "childhood_features = list(df_childhood.keys())\n",
    "\n",
    "\n",
    "alt.Chart(df_childhood).mark_bar().encode(\n",
    "    alt.X(alt.repeat(\"column\"), bin=True),\n",
    "    alt.Y(\"count()\")\n",
    ").properties(\n",
    "    width=200,\n",
    "    height=200,\n",
    ").repeat(\n",
    "    column=childhood_features\n",
    ")"
   ]
  },
  {
   "cell_type": "code",
   "execution_count": null,
   "metadata": {
    "colab": {
     "base_uri": "https://localhost:8080/"
    },
    "id": "0jFqzmRNu0kT",
    "outputId": "23b0951d-15b1-4a9d-dc4d-bdd0e394d511"
   },
   "outputs": [],
   "source": [
    "corr_matrix_2 = df_childhood.corr()\n",
    "corr_matrix_2['inventor'].sort_values(ascending=False)"
   ]
  }
 ],
 "metadata": {
  "colab": {
   "provenance": []
  },
  "kernelspec": {
   "display_name": "Python 3",
   "language": "python",
   "name": "python3"
  },
  "language_info": {
   "codemirror_mode": {
    "name": "ipython",
    "version": 3
   },
   "file_extension": ".py",
   "mimetype": "text/x-python",
   "name": "python",
   "nbconvert_exporter": "python",
   "pygments_lexer": "ipython3",
   "version": "3.8.8"
  }
 },
 "nbformat": 4,
 "nbformat_minor": 1
}
